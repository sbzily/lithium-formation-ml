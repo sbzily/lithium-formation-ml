{
 "cells": [
  {
   "cell_type": "code",
   "execution_count": 6,
   "metadata": {},
   "outputs": [],
   "source": [
    "import pandas as pd\n",
    "from matminer.featurizers.conversions import StrToComposition\n",
    "\n",
    "from matminer.featurizers.base import MultipleFeaturizer\n",
    "from matminer.featurizers import composition as cf\n",
    "\n",
    "from sklearn.preprocessing import StandardScaler\n",
    "from sklearn.model_selection import train_test_split\n",
    "from sklearn.metrics import r2_score, mean_squared_error, mean_absolute_error\n",
    "from sklearn.ensemble import RandomForestRegressor\n",
    "from sklearn.model_selection import cross_val_score, cross_val_predict, GridSearchCV, ShuffleSplit, KFold\n",
    "\n",
    "\n",
    "import numpy as np\n",
    "import matplotlib.pyplot as plt\n",
    "\n",
    "print(test)"
   ]
  },
  {
   "cell_type": "code",
   "execution_count": 2,
   "metadata": {},
   "outputs": [
    {
     "name": "stderr",
     "output_type": "stream",
     "text": [
      "StrToComposition: 100%|██████████| 19480/19480 [00:08<00:00, 2341.88it/s] \n"
     ]
    }
   ],
   "source": [
    "data = pd.read_csv('Li_materials.csv')\n",
    "import ast\n",
    "chemical_formulas = [''.join([key + str(int(val)) for key, val in ast.literal_eval(formula).items()]) for formula in data[\"formula\"]]\n",
    "data.insert(loc=2, column='chemical_formula', value=chemical_formulas)\n",
    "data = StrToComposition().featurize_dataframe(data, \"chemical_formula\", ignore_errors=True)"
   ]
  },
  {
   "cell_type": "code",
   "execution_count": 3,
   "metadata": {},
   "outputs": [
    {
     "name": "stderr",
     "output_type": "stream",
     "text": [
      "MultipleFeaturizer: 100%|██████████| 19480/19480 [00:55<00:00, 350.40it/s]\n"
     ]
    },
    {
     "name": "stdout",
     "output_type": "stream",
     "text": [
      "Removed 0/19480 entries\n"
     ]
    }
   ],
   "source": [
    "feature_calculators = MultipleFeaturizer([cf.Stoichiometry(), cf.ElementProperty.from_preset(\"magpie\"),\n",
    "                                          cf.ValenceOrbital(props=['avg']), cf.IonProperty(fast=True)])\n",
    "\n",
    "feature_labels = feature_calculators.feature_labels()\n",
    "\n",
    "data = feature_calculators.featurize_dataframe(data, col_id='composition')\n",
    "\n",
    "original_count = len(data)\n",
    "data = data[~ data[feature_labels].isnull().any(axis=1)]\n",
    "print('Removed %d/%d entries'%(original_count - len(data), original_count))"
   ]
  },
  {
   "cell_type": "code",
   "execution_count": 4,
   "metadata": {},
   "outputs": [
    {
     "data": {
      "text/html": [
       "<div>\n",
       "<style scoped>\n",
       "    .dataframe tbody tr th:only-of-type {\n",
       "        vertical-align: middle;\n",
       "    }\n",
       "\n",
       "    .dataframe tbody tr th {\n",
       "        vertical-align: top;\n",
       "    }\n",
       "\n",
       "    .dataframe thead th {\n",
       "        text-align: right;\n",
       "    }\n",
       "</style>\n",
       "<table border=\"1\" class=\"dataframe\">\n",
       "  <thead>\n",
       "    <tr style=\"text-align: right;\">\n",
       "      <th></th>\n",
       "      <th>Unnamed: 0</th>\n",
       "      <th>material_id</th>\n",
       "      <th>chemical_formula</th>\n",
       "      <th>formula</th>\n",
       "      <th>spacegroup.symbol</th>\n",
       "      <th>cif</th>\n",
       "      <th>formation_energy_per_atom</th>\n",
       "      <th>composition</th>\n",
       "      <th>0-norm</th>\n",
       "      <th>2-norm</th>\n",
       "      <th>...</th>\n",
       "      <th>MagpieData mean SpaceGroupNumber</th>\n",
       "      <th>MagpieData avg_dev SpaceGroupNumber</th>\n",
       "      <th>MagpieData mode SpaceGroupNumber</th>\n",
       "      <th>avg s valence electrons</th>\n",
       "      <th>avg p valence electrons</th>\n",
       "      <th>avg d valence electrons</th>\n",
       "      <th>avg f valence electrons</th>\n",
       "      <th>compound possible</th>\n",
       "      <th>max ionic char</th>\n",
       "      <th>avg ionic char</th>\n",
       "    </tr>\n",
       "  </thead>\n",
       "  <tbody>\n",
       "    <tr>\n",
       "      <th>0</th>\n",
       "      <td>0</td>\n",
       "      <td>mp-10173</td>\n",
       "      <td>Li1</td>\n",
       "      <td>{'Li': 1.0}</td>\n",
       "      <td>P6_3/mmc</td>\n",
       "      <td># generated using pymatgen\\ndata_Li\\n_symmetry...</td>\n",
       "      <td>0.002524</td>\n",
       "      <td>(Li)</td>\n",
       "      <td>1</td>\n",
       "      <td>1.0</td>\n",
       "      <td>...</td>\n",
       "      <td>229.0</td>\n",
       "      <td>0.0</td>\n",
       "      <td>229.0</td>\n",
       "      <td>1.0</td>\n",
       "      <td>0.0</td>\n",
       "      <td>0.0</td>\n",
       "      <td>0.0</td>\n",
       "      <td>True</td>\n",
       "      <td>0.0</td>\n",
       "      <td>0.0</td>\n",
       "    </tr>\n",
       "    <tr>\n",
       "      <th>1</th>\n",
       "      <td>1</td>\n",
       "      <td>mp-1018134</td>\n",
       "      <td>Li1</td>\n",
       "      <td>{'Li': 1.0}</td>\n",
       "      <td>R-3m</td>\n",
       "      <td># generated using pymatgen\\ndata_Li\\n_symmetry...</td>\n",
       "      <td>0.000000</td>\n",
       "      <td>(Li)</td>\n",
       "      <td>1</td>\n",
       "      <td>1.0</td>\n",
       "      <td>...</td>\n",
       "      <td>229.0</td>\n",
       "      <td>0.0</td>\n",
       "      <td>229.0</td>\n",
       "      <td>1.0</td>\n",
       "      <td>0.0</td>\n",
       "      <td>0.0</td>\n",
       "      <td>0.0</td>\n",
       "      <td>True</td>\n",
       "      <td>0.0</td>\n",
       "      <td>0.0</td>\n",
       "    </tr>\n",
       "    <tr>\n",
       "      <th>2</th>\n",
       "      <td>2</td>\n",
       "      <td>mp-567337</td>\n",
       "      <td>Li1</td>\n",
       "      <td>{'Li': 1.0}</td>\n",
       "      <td>I-43d</td>\n",
       "      <td># generated using pymatgen\\ndata_Li\\n_symmetry...</td>\n",
       "      <td>0.010352</td>\n",
       "      <td>(Li)</td>\n",
       "      <td>1</td>\n",
       "      <td>1.0</td>\n",
       "      <td>...</td>\n",
       "      <td>229.0</td>\n",
       "      <td>0.0</td>\n",
       "      <td>229.0</td>\n",
       "      <td>1.0</td>\n",
       "      <td>0.0</td>\n",
       "      <td>0.0</td>\n",
       "      <td>0.0</td>\n",
       "      <td>True</td>\n",
       "      <td>0.0</td>\n",
       "      <td>0.0</td>\n",
       "    </tr>\n",
       "    <tr>\n",
       "      <th>3</th>\n",
       "      <td>3</td>\n",
       "      <td>mp-1063005</td>\n",
       "      <td>Li1</td>\n",
       "      <td>{'Li': 1.0}</td>\n",
       "      <td>P6/mmm</td>\n",
       "      <td># generated using pymatgen\\ndata_Li\\n_symmetry...</td>\n",
       "      <td>0.018578</td>\n",
       "      <td>(Li)</td>\n",
       "      <td>1</td>\n",
       "      <td>1.0</td>\n",
       "      <td>...</td>\n",
       "      <td>229.0</td>\n",
       "      <td>0.0</td>\n",
       "      <td>229.0</td>\n",
       "      <td>1.0</td>\n",
       "      <td>0.0</td>\n",
       "      <td>0.0</td>\n",
       "      <td>0.0</td>\n",
       "      <td>True</td>\n",
       "      <td>0.0</td>\n",
       "      <td>0.0</td>\n",
       "    </tr>\n",
       "    <tr>\n",
       "      <th>4</th>\n",
       "      <td>4</td>\n",
       "      <td>mp-976411</td>\n",
       "      <td>Li1</td>\n",
       "      <td>{'Li': 1.0}</td>\n",
       "      <td>P6_3/mmc</td>\n",
       "      <td># generated using pymatgen\\ndata_Li\\n_symmetry...</td>\n",
       "      <td>0.002798</td>\n",
       "      <td>(Li)</td>\n",
       "      <td>1</td>\n",
       "      <td>1.0</td>\n",
       "      <td>...</td>\n",
       "      <td>229.0</td>\n",
       "      <td>0.0</td>\n",
       "      <td>229.0</td>\n",
       "      <td>1.0</td>\n",
       "      <td>0.0</td>\n",
       "      <td>0.0</td>\n",
       "      <td>0.0</td>\n",
       "      <td>True</td>\n",
       "      <td>0.0</td>\n",
       "      <td>0.0</td>\n",
       "    </tr>\n",
       "  </tbody>\n",
       "</table>\n",
       "<p>5 rows × 153 columns</p>\n",
       "</div>"
      ],
      "text/plain": [
       "   Unnamed: 0 material_id chemical_formula      formula spacegroup.symbol  \\\n",
       "0           0    mp-10173              Li1  {'Li': 1.0}          P6_3/mmc   \n",
       "1           1  mp-1018134              Li1  {'Li': 1.0}              R-3m   \n",
       "2           2   mp-567337              Li1  {'Li': 1.0}             I-43d   \n",
       "3           3  mp-1063005              Li1  {'Li': 1.0}            P6/mmm   \n",
       "4           4   mp-976411              Li1  {'Li': 1.0}          P6_3/mmc   \n",
       "\n",
       "                                                 cif  \\\n",
       "0  # generated using pymatgen\\ndata_Li\\n_symmetry...   \n",
       "1  # generated using pymatgen\\ndata_Li\\n_symmetry...   \n",
       "2  # generated using pymatgen\\ndata_Li\\n_symmetry...   \n",
       "3  # generated using pymatgen\\ndata_Li\\n_symmetry...   \n",
       "4  # generated using pymatgen\\ndata_Li\\n_symmetry...   \n",
       "\n",
       "   formation_energy_per_atom composition  0-norm  2-norm  ...  \\\n",
       "0                   0.002524        (Li)       1     1.0  ...   \n",
       "1                   0.000000        (Li)       1     1.0  ...   \n",
       "2                   0.010352        (Li)       1     1.0  ...   \n",
       "3                   0.018578        (Li)       1     1.0  ...   \n",
       "4                   0.002798        (Li)       1     1.0  ...   \n",
       "\n",
       "   MagpieData mean SpaceGroupNumber  MagpieData avg_dev SpaceGroupNumber  \\\n",
       "0                             229.0                                  0.0   \n",
       "1                             229.0                                  0.0   \n",
       "2                             229.0                                  0.0   \n",
       "3                             229.0                                  0.0   \n",
       "4                             229.0                                  0.0   \n",
       "\n",
       "   MagpieData mode SpaceGroupNumber  avg s valence electrons  \\\n",
       "0                             229.0                      1.0   \n",
       "1                             229.0                      1.0   \n",
       "2                             229.0                      1.0   \n",
       "3                             229.0                      1.0   \n",
       "4                             229.0                      1.0   \n",
       "\n",
       "   avg p valence electrons  avg d valence electrons  avg f valence electrons  \\\n",
       "0                      0.0                      0.0                      0.0   \n",
       "1                      0.0                      0.0                      0.0   \n",
       "2                      0.0                      0.0                      0.0   \n",
       "3                      0.0                      0.0                      0.0   \n",
       "4                      0.0                      0.0                      0.0   \n",
       "\n",
       "   compound possible  max ionic char  avg ionic char  \n",
       "0               True             0.0             0.0  \n",
       "1               True             0.0             0.0  \n",
       "2               True             0.0             0.0  \n",
       "3               True             0.0             0.0  \n",
       "4               True             0.0             0.0  \n",
       "\n",
       "[5 rows x 153 columns]"
      ]
     },
     "execution_count": 4,
     "metadata": {},
     "output_type": "execute_result"
    }
   ],
   "source": [
    "data.head(5)"
   ]
  },
  {
   "cell_type": "markdown",
   "metadata": {},
   "source": [
    "### RF model - CV - hyperparameter search"
   ]
  },
  {
   "cell_type": "code",
   "execution_count": 7,
   "metadata": {},
   "outputs": [],
   "source": [
    "model = GridSearchCV(RandomForestRegressor(n_estimators=20, n_jobs=-1),\n",
    "                     param_grid=dict(max_features=range(8,15)),\n",
    "                     scoring='neg_mean_squared_error',cv=ShuffleSplit(n_splits=1, test_size=0.1))"
   ]
  },
  {
   "cell_type": "code",
   "execution_count": 8,
   "metadata": {},
   "outputs": [
    {
     "data": {
      "text/plain": [
       "GridSearchCV(cv=ShuffleSplit(n_splits=1, random_state=None, test_size=0.1, train_size=None),\n",
       "             estimator=RandomForestRegressor(n_estimators=20, n_jobs=-1),\n",
       "             param_grid={'max_features': range(8, 15)},\n",
       "             scoring='neg_mean_squared_error')"
      ]
     },
     "execution_count": 8,
     "metadata": {},
     "output_type": "execute_result"
    }
   ],
   "source": [
    "model.fit(data[feature_labels], data['formation_energy_per_atom'])"
   ]
  },
  {
   "cell_type": "code",
   "execution_count": 9,
   "metadata": {},
   "outputs": [
    {
     "data": {
      "text/plain": [
       "Text(0, 0.5, 'RMSE (eV/atom)')"
      ]
     },
     "execution_count": 9,
     "metadata": {},
     "output_type": "execute_result"
    },
    {
     "data": {
      "image/png": "[encoded data removed]",
      "text/plain": [
       "<Figure size 432x288 with 1 Axes>"
      ]
     },
     "metadata": {
      "needs_background": "light"
     },
     "output_type": "display_data"
    }
   ],
   "source": [
    "fig, ax = plt.subplots()\n",
    "\n",
    "# Plot the score as a function of alpha\n",
    "ax.scatter(model.cv_results_['param_max_features'].data,np.sqrt(-1 * model.cv_results_['mean_test_score']))\n",
    "ax.scatter([model.best_params_['max_features']], np.sqrt([-1*model.best_score_]), marker='o', color='r', s=40)\n",
    "ax.set_xlabel('Max. Features')\n",
    "ax.set_ylabel('RMSE (eV/atom)')"
   ]
  },
  {
   "cell_type": "markdown",
   "metadata": {},
   "source": [
    "RMSE of 0.212 -> MAE of 0.212 eV per atom.  0.03 eV is chemical accuracy"
   ]
  },
  {
   "cell_type": "code",
   "execution_count": null,
   "metadata": {},
   "outputs": [],
   "source": []
  }
 ],
 "metadata": {
  "interpreter": {
   "hash": "6967240968a5a5596503df1699ac430f64b0229188d7f1a9238d66ae6747f877"
  },
  "kernelspec": {
   "display_name": "Python 3",
   "language": "python",
   "name": "python3"
  },
  "language_info": {
   "codemirror_mode": {
    "name": "ipython",
    "version": 3
   },
   "file_extension": ".py",
   "mimetype": "text/x-python",
   "name": "python",
   "nbconvert_exporter": "python",
   "pygments_lexer": "ipython3",
   "version": "3.7.6"
  }
 },
 "nbformat": 4,
 "nbformat_minor": 2
}
